{
 "cells": [
  {
   "cell_type": "code",
   "execution_count": 22,
   "metadata": {},
   "outputs": [],
   "source": [
    "# test comment\n",
    "class GomokuAgent:\n",
    "    def __init__(self, ID, BOARD_SIZE, X_IN_A_LINE):\n",
    "        self.ID = ID\n",
    "        self.BOARD_SIZE = BOARD_SIZE\n",
    "        self.X_IN_A_LINE = X_IN_A_LINE\n",
    "\n",
    "    def move(self, board):\n",
    "        return (0,0)\n"
   ]
  },
  {
   "cell_type": "code",
   "execution_count": 43,
   "metadata": {},
   "outputs": [],
   "source": [
    "import numpy as np\n",
    "\n",
    "from misc import legalMove\n",
    "from gomokuAgent import GomokuAgent\n",
    "\n",
    "class Player(GomokuAgent):\n",
    "    p_C = -10 #corner\n",
    "    p_S = -5 #side\n",
    "    p_2P = 1 #2 in a row with one end covered\n",
    "    p_2U = 5 #2 in a row with neither end covered\n",
    "    p_3P = 10 #3 in a row \n",
    "    p_3U = 50 #3 in a row\n",
    "    p_4P = 100 #4 in a row\n",
    "    p_4U = 10000000 #4 in a row\n",
    "    board = np.zeros((BOARD_SIZE, BOARD_SIZE), dtype=int)\n",
    "    board_bin = 1000000000000000000000\n",
    "    def move(self, board):\n",
    "        while True:\n",
    "            moveLoc = tuple(np.random.randint(self.BOARD_SIZE, size=2))\n",
    "            if legalMove(board, moveLoc):\n",
    "                return moveLoc\n",
    "            \n",
    "    def calculateScore(self, board):\n",
    "        score = 0\n",
    "        score += self.findAll2P(board) * self.p_2P\n",
    "        score += self.findAll2U(board) * self.p_2U\n",
    "        score += self.findAll3P(board) * self.p_3P\n",
    "        score += self.findAll3U(board) * self.p_3U\n",
    "        score += self.findAll4P(board) * self.p_4P\n",
    "        score += self.findAll4U(board) * self.p_4U\n",
    "        score += self.findAllS(board) * self.p_S\n",
    "        score += self.findAllC(board) * self.p_C\n",
    "        return score\n",
    "        \n",
    "    def findAll2P(self,board):\n",
    "        return 1 \n",
    "    def findAll2U(self,board):\n",
    "        return 1\n",
    "    def findAll3P(self,board):\n",
    "        return 1\n",
    "    def findAll3U(self,board):\n",
    "        return 1\n",
    "    def findAll4P(self,board):\n",
    "        return 1\n",
    "    def findAll4U(self,board):\n",
    "        return 1\n",
    "    def findAllS(self,board):\n",
    "        return 1\n",
    "    def findAllC(self,board):\n",
    "        return 1"
   ]
  },
  {
   "cell_type": "code",
   "execution_count": 44,
   "metadata": {},
   "outputs": [
    {
     "data": {
      "text/plain": [
       "10000151"
      ]
     },
     "execution_count": 44,
     "metadata": {},
     "output_type": "execute_result"
    }
   ],
   "source": [
    "p = Player(1,11,5)\n",
    "p.calculateScore([])"
   ]
  }
 ],
 "metadata": {
  "kernelspec": {
   "display_name": "Python 3",
   "language": "python",
   "name": "python3"
  },
  "language_info": {
   "codemirror_mode": {
    "name": "ipython",
    "version": 3
   },
   "file_extension": ".py",
   "mimetype": "text/x-python",
   "name": "python",
   "nbconvert_exporter": "python",
   "pygments_lexer": "ipython3",
   "version": "3.8.5"
  }
 },
 "nbformat": 4,
 "nbformat_minor": 4
}
